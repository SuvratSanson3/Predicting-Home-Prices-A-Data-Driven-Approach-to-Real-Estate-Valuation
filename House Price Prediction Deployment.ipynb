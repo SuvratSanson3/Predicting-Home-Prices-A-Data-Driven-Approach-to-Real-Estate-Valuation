{
 "cells": [
  {
   "cell_type": "code",
   "execution_count": 1,
   "id": "0ae98a8c-0dfd-40b5-97e8-0bbb083bd4ba",
   "metadata": {},
   "outputs": [],
   "source": [
    "import gradio as gr\n",
    "import pickle\n",
    "\n",
    "import warnings\n",
    "warnings.filterwarnings('ignore')"
   ]
  },
  {
   "cell_type": "code",
   "execution_count": 2,
   "id": "3384b24c-bf82-4543-b601-261bbf970ff8",
   "metadata": {},
   "outputs": [],
   "source": [
    "with open('final_model_gb.pkl','rb') as file:\n",
    "    model = pickle.load(file)"
   ]
  },
  {
   "cell_type": "code",
   "execution_count": 3,
   "id": "0a3183ec-7be9-4095-bf4a-347e31390f94",
   "metadata": {},
   "outputs": [
    {
     "data": {
      "text/plain": [
       "761969.6451198515"
      ]
     },
     "execution_count": 3,
     "metadata": {},
     "output_type": "execute_result"
    }
   ],
   "source": [
    "model.predict([[3,2,1000,1700,2,1,4,11,1800,1000,2005,2300,4200,2,20,6,1,2]])[0]"
   ]
  },
  {
   "cell_type": "code",
   "execution_count": 4,
   "id": "510dca0a-d665-4da6-8f41-9bf87670e572",
   "metadata": {},
   "outputs": [],
   "source": [
    "def prediction(num_bed, num_bath, liv_ar, lot_ar, num_fl, wat_fr, cond, grade, house_ar, base_ar, blt_yr, liv_ar_ren, lot_ar_ren,\n",
    "              num_school, airp_dist, sell_mon, ren, view):\n",
    "    input_data = [[num_bed, num_bath, liv_ar, lot_ar, num_fl, wat_fr, cond, grade, house_ar, base_ar, blt_yr, liv_ar_ren, lot_ar_ren,\n",
    "                  num_school, airp_dist, sell_mon, ren, view]]\n",
    "    pred = round(model.predict(input_data)[0],3)\n",
    "    return pred"
   ]
  },
  {
   "cell_type": "code",
   "execution_count": 5,
   "id": "eb4d9077-aa76-47b6-a6dd-756dfc1124bc",
   "metadata": {},
   "outputs": [
    {
     "data": {
      "text/plain": [
       "832685.267"
      ]
     },
     "execution_count": 5,
     "metadata": {},
     "output_type": "execute_result"
    }
   ],
   "source": [
    "prediction(6,4,1000,1700,4,1,4,11,1800,1000,2005,2300,4200,2,10,6,1,2)"
   ]
  },
  {
   "cell_type": "markdown",
   "id": "f42b6d6a-dd13-4ce9-9fb0-68551209d577",
   "metadata": {},
   "source": [
    "# ***`Interface`***"
   ]
  },
  {
   "cell_type": "code",
   "execution_count": 6,
   "id": "d12369f6-0edb-46aa-89d7-4e4dde4de194",
   "metadata": {},
   "outputs": [],
   "source": [
    "iface = gr.Interface(fn=prediction,\n",
    "                    inputs=[gr.Number(label='Enter Number of Bedrooms'),\n",
    "                            gr.Number(label='Enter Number of Bathrooms'),\n",
    "                            gr.Number(label='Enter the Living area'),\n",
    "                            gr.Number(label='Enter the Lot Area'),\n",
    "                            gr.Number(label='Enter the Number of Floors'),\n",
    "                            gr.Dropdown([('Yes',1),('No',0)],label='Is a waterfront present or not?'),\n",
    "                            gr.Slider(minimum=1,maximum=5,step=1,label='What is the Condition of the House?'),\n",
    "                            gr.Slider(minimum=4,maximum=13,step=1,label='What is the Grade of the House?'),\n",
    "                            gr.Number(label='Enter the area of the House(without Basement)'),\n",
    "                            gr.Number(label='Enter the area of the Basement'),\n",
    "                            gr.Number(label='Enter the year the house was built'),\n",
    "                            gr.Number(label='Enter the Living area after Renovation'),\n",
    "                            gr.Number(label='Enter the Lot Area after Renovation'),\n",
    "                            gr.Dropdown([0,1,2,3],label='What is the number of schools nearby?'),\n",
    "                            gr.Number(label='Enter the distance from Airport'),\n",
    "                            gr.Slider(minimum=1,maximum=12,step=1,label='Which is the Selling Month?'),\n",
    "                            gr.Dropdown([('Yes',1),('No',0)],label='Is the House renovated or not?'),\n",
    "                            gr.Dropdown([('Yes',1),('No',0)],label='Does the house have a view or not?')],\n",
    "                    \n",
    "                    outputs=gr.Textbox(label='Predicted Price'),\n",
    "                    \n",
    "                    title='House Price Prediction',\n",
    "                    \n",
    "                    description='This application will predict the price of the Houses',\n",
    "                    \n",
    "                    allow_flagging='never')"
   ]
  },
  {
   "cell_type": "code",
   "execution_count": 7,
   "id": "f23e86fd-f483-4074-9cba-b758b517dfb3",
   "metadata": {},
   "outputs": [
    {
     "name": "stdout",
     "output_type": "stream",
     "text": [
      "Running on local URL:  http://127.0.0.1:7860\n",
      "\n",
      "To create a public link, set `share=True` in `launch()`.\n"
     ]
    },
    {
     "data": {
      "text/html": [
       "<div><iframe src=\"http://127.0.0.1:7860/\" width=\"100%\" height=\"500\" allow=\"autoplay; camera; microphone; clipboard-read; clipboard-write;\" frameborder=\"0\" allowfullscreen></iframe></div>"
      ],
      "text/plain": [
       "<IPython.core.display.HTML object>"
      ]
     },
     "metadata": {},
     "output_type": "display_data"
    },
    {
     "data": {
      "text/plain": []
     },
     "execution_count": 7,
     "metadata": {},
     "output_type": "execute_result"
    }
   ],
   "source": [
    "iface.launch()"
   ]
  },
  {
   "cell_type": "code",
   "execution_count": null,
   "id": "4503b6cb-f4b9-4ade-9e70-7c8cb48d9cc4",
   "metadata": {},
   "outputs": [],
   "source": []
  }
 ],
 "metadata": {
  "kernelspec": {
   "display_name": "Python 3 (ipykernel)",
   "language": "python",
   "name": "python3"
  },
  "language_info": {
   "codemirror_mode": {
    "name": "ipython",
    "version": 3
   },
   "file_extension": ".py",
   "mimetype": "text/x-python",
   "name": "python",
   "nbconvert_exporter": "python",
   "pygments_lexer": "ipython3",
   "version": "3.11.7"
  }
 },
 "nbformat": 4,
 "nbformat_minor": 5
}
